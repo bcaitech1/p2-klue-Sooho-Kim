{
 "metadata": {
  "language_info": {
   "codemirror_mode": {
    "name": "ipython",
    "version": 3
   },
   "file_extension": ".py",
   "mimetype": "text/x-python",
   "name": "python",
   "nbconvert_exporter": "python",
   "pygments_lexer": "ipython3",
   "version": 3
  },
  "orig_nbformat": 2
 },
 "nbformat": 4,
 "nbformat_minor": 2,
 "cells": [
  {
   "source": [
    "## ensemble"
   ],
   "cell_type": "markdown",
   "metadata": {}
  },
  {
   "cell_type": "code",
   "execution_count": null,
   "metadata": {},
   "outputs": [],
   "source": [
    "import pandas as pd\n",
    "import os"
   ]
  },
  {
   "cell_type": "code",
   "execution_count": null,
   "metadata": {},
   "outputs": [],
   "source": [
    "path = \"ensemble\"\n",
    "df_file_names = os.listdir(path)\n",
    "\n",
    "df_list = []\n",
    "for name in df_file_names:\n",
    "    df = pd.read_csv(path+'/'+f'{name}')\n",
    "    df_list.append(df)\n",
    "new_df = df_list[0]\n",
    "\n",
    "new_df['ans1'] = df_list[0]['pred']\n",
    "new_df['ans2'] = df_list[1]['pred']\n",
    "new_df['ans3'] = df_list[2]['pred']\n",
    "new_df['ans4'] = df_list[3]['pred']\n",
    "new_df['ans5'] = df_list[4]['pred']\n",
    "\n",
    "for i in range(1000):\n",
    "    new_df['pred'][i] = max(new_df.loc[i][1:].mode())\n",
    "\n",
    "del new_df['ans1']\n",
    "del new_df['ans2']\n",
    "del new_df['ans3']\n",
    "del new_df['ans4']\n",
    "del new_df['ans5']\n",
    "\n",
    "new_df.to_csv('final_ensemble2.csv')\n"
   ]
  }
 ]
}